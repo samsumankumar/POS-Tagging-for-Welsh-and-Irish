{
 "cells": [
  {
   "cell_type": "code",
   "execution_count": 1,
   "metadata": {},
   "outputs": [
    {
     "name": "stderr",
     "output_type": "stream",
     "text": [
      "\n",
      "Bad key \"text.kerning_factor\" on line 4 in\n",
      "C:\\Users\\samsu\\anaconda3\\envs\\tensorflow_gpu\\lib\\site-packages\\matplotlib\\mpl-data\\stylelib\\_classic_test_patch.mplstyle.\n",
      "You probably need to get an updated matplotlibrc file from\n",
      "https://github.com/matplotlib/matplotlib/blob/v3.1.3/matplotlibrc.template\n",
      "or from the matplotlib source distribution\n"
     ]
    }
   ],
   "source": [
    "import re\n",
    "import sys\n",
    "import torch\n",
    "import numpy as np\n",
    "import pandas as pd\n",
    "import torch.nn as nn\n",
    "import torch.optim as optim\n",
    "import matplotlib.pyplot as plt\n",
    "import torch.nn.functional as F"
   ]
  },
  {
   "cell_type": "code",
   "execution_count": 2,
   "metadata": {},
   "outputs": [],
   "source": [
    "#https://github.com/Bjarten/early-stopping-pytorch/blob/master/pytorchtools.py\n",
    "\n",
    "class EarlyStopping:\n",
    "    def __init__(self, patience=8, verbose=True, delta=0, path='checkpoint.pt', trace_func=print):\n",
    "        \n",
    "        self.patience = patience\n",
    "        self.verbose = verbose\n",
    "        self.counter = 0\n",
    "        self.best_score = None\n",
    "        self.early_stop = False\n",
    "        self.val_loss_min = np.Inf\n",
    "        self.delta = delta\n",
    "        self.path = path\n",
    "        self.trace_func = trace_func\n",
    "        \n",
    "    def __call__(self, val_loss, model):\n",
    "\n",
    "        score = -val_loss\n",
    "\n",
    "        if self.best_score is None:\n",
    "            self.best_score = score\n",
    "            self.save_checkpoint(val_loss, model)\n",
    "        elif score < self.best_score + self.delta:\n",
    "            self.counter += 1\n",
    "            self.trace_func(f'EarlyStopping counter: {self.counter} out of {self.patience}\\n')\n",
    "            if self.counter >= self.patience:\n",
    "                self.early_stop = True\n",
    "        else:\n",
    "            self.best_score = score\n",
    "            self.save_checkpoint(val_loss, model)\n",
    "            self.counter = 0\n",
    "\n",
    "    def save_checkpoint(self, val_loss, model):\n",
    "        if self.verbose:\n",
    "            self.trace_func(f'Validation loss decreased ({self.val_loss_min:.6f} --> {val_loss:.6f}).  Saving model ... \\n')\n",
    "        torch.save(model.state_dict(), self.path)\n",
    "        self.val_loss_min = val_loss"
   ]
  },
  {
   "cell_type": "code",
   "execution_count": 3,
   "metadata": {},
   "outputs": [],
   "source": [
    "#To test a single line data for visulaisation \n",
    "def compute_accuracy_test(output, gold):\n",
    "    try:\n",
    "        assert(len(output) == len(gold))\n",
    "    except:\n",
    "        print(\"Different number of words in the two lists!\")\n",
    "        return -1\n",
    "\n",
    "    count_correct = 0\n",
    "    count_total_tokens = 0\n",
    "    for o_sent,g_sent in zip(output,gold):\n",
    "        check = [o_token == g_token for o_token,g_token in zip(o_sent,g_sent)]\n",
    "        count_correct += sum(check)\n",
    "        count_total_tokens += len(check)\n",
    "    return count_correct/count_total_tokens\n",
    "\n",
    "def compute_accuracy(output, gold):\n",
    "    try:\n",
    "        assert(len(output) == len(gold))\n",
    "    except:\n",
    "        print(\"Different number of lines in the two files!\")\n",
    "        return -1\n",
    "\n",
    "    count_correct = 0\n",
    "    count_total_tokens = 0\n",
    "    for o_sent,g_sent in zip(output,gold):\n",
    "        try:\n",
    "            assert(len(o_sent)==len(g_sent))\n",
    "        except:\n",
    "            print(\"Different number of tokens in the two lines!\")\n",
    "            return -1\n",
    "        check = [o_token[1] == g_token[1] for o_token,g_token in zip(o_sent,g_sent)]\n",
    "        count_correct += sum(check)\n",
    "        count_total_tokens += len(check)\n",
    "    return count_correct/count_total_tokens"
   ]
  },
  {
   "cell_type": "markdown",
   "metadata": {},
   "source": [
    "### Reading and preparing the file for training"
   ]
  },
  {
   "cell_type": "code",
   "execution_count": 4,
   "metadata": {},
   "outputs": [
    {
     "name": "stdout",
     "output_type": "stream",
     "text": [
      "====================Reading the file====================\n",
      "====================Reading the file====================\n",
      "====================Reading the file====================\n"
     ]
    }
   ],
   "source": [
    "from collections import Counter\n",
    "#encoding=\"ISO-8859-1\"\n",
    "def read_data(f):\n",
    "    with open(f, encoding = \"utf-8\",) as inp:\n",
    "        lines = inp.readlines()\n",
    "        if len(lines) == 0:\n",
    "            raise ValueError('This file is empty')\n",
    "        else:\n",
    "            print('='*20+'Reading the file'+'='*20)\n",
    "    data = []\n",
    "    for line in lines:\n",
    "        line = line.strip().split()\n",
    "        sentence = []\n",
    "        for token in line:\n",
    "            token = token.split('|')\n",
    "            word = token[0]\n",
    "            tag = token[1]\n",
    "            sentence.append((word,tag))\n",
    "        data.append(sentence)\n",
    "    return data\n",
    "\n",
    "def convert_data_for_training(data):\n",
    "    for d in data:\n",
    "        tokens = [t[0] for t in d]\n",
    "        tags = [t[1] for t in d]\n",
    "    return [([t[0] for t in d],[t[1] for t in d]) for d in data]\n",
    "\n",
    "TRAINING_FILE = \"data/irish.train\"\n",
    "training_data = convert_data_for_training(read_data(TRAINING_FILE))\n",
    "\n",
    "DEV_FILE = \"data/irish.dev\"\n",
    "dev_data = convert_data_for_training(read_data(DEV_FILE))\n",
    "\n",
    "TEST_FILE = \"data/irish.test\"\n",
    "test_data = convert_data_for_training(read_data(TEST_FILE))"
   ]
  },
  {
   "cell_type": "markdown",
   "metadata": {},
   "source": [
    "### Rare words are assigned as UNK \n",
    "Run the Below cell if you want to replace the rare words with 'UNK'"
   ]
  },
  {
   "cell_type": "code",
   "execution_count": 5,
   "metadata": {},
   "outputs": [],
   "source": [
    "def substitute_with_UNK(data, n=1):\n",
    "    \n",
    "    doc = ''\n",
    "    for i in range(len(data)):\n",
    "        s = ' '.join(data[i][0])\n",
    "        doc = doc + ' ' + s\n",
    "    \n",
    "    words = doc.lower().split()    \n",
    "    wordfreq = [words.count(p) for p in words]\n",
    "    words_UNK = words.copy()\n",
    "    #freqdict = dict(list(zip(words,wordfreq)))\n",
    "    \n",
    "    # Find all words that appear <= n times in the corpus\n",
    "    # Iterate through the corpus and substitute the rare words with UNK\n",
    "    for i in range(len(wordfreq)):\n",
    "        if(wordfreq[i]==n):\n",
    "            words_UNK[i] = 'UNK'\n",
    "    data = [words,words_UNK]\n",
    "    return data\n",
    "\n",
    "data = substitute_with_UNK(training_data, n=1)\n",
    "words = data[0].copy()\n",
    "words_unk = data[1].copy()\n",
    "\n",
    "word_to_ix = {}#{'<pad>': 0}\n",
    "ix_to_word = {}#{0: '<pad>'}\n",
    "char_to_ix = {'$': 0}# $ is to represent unknown character\n",
    "ix_to_char = {0: '$'}\n",
    "word_len_max = 0\n",
    "for word in words_unk:\n",
    "    if word not in word_to_ix:\n",
    "        word_to_ix[word] = len(word_to_ix)\n",
    "        ix_to_word[word_to_ix[word]] = word\n",
    "    for char in word:\n",
    "        if char not in char_to_ix:\n",
    "            char_to_ix[char] = len(char_to_ix)\n",
    "            ix_to_char[char_to_ix[char]] = char        \n",
    "        \n",
    "tag_to_ix = {}\n",
    "ix_to_tag = {}\n",
    "for sent, tags in training_data:\n",
    "    for tag in tags:\n",
    "        if tag not in tag_to_ix:\n",
    "            tag_to_ix[tag] = len(tag_to_ix)\n",
    "            ix_to_tag[tag_to_ix[tag]] = tag"
   ]
  },
  {
   "cell_type": "markdown",
   "metadata": {},
   "source": [
    "NOTE: Create the tokens using 'words_UNK', then we will have a UNK word token and rare words wont have any tokens of their own.\n",
    " Now we can use 'words', to train the model where rare words should be assigned to UNK token using if else statement. "
   ]
  },
  {
   "cell_type": "markdown",
   "metadata": {},
   "source": [
    "### Tokenizing the words and tags"
   ]
  },
  {
   "cell_type": "code",
   "execution_count": 6,
   "metadata": {},
   "outputs": [],
   "source": [
    "def prepare_sequence(seq, to_ix):\n",
    "    sequence = []\n",
    "    for w in seq:\n",
    "        if w in to_ix:\n",
    "            sequence.append(to_ix[w])\n",
    "        else:\n",
    "            sequence.append(to_ix['UNK'])\n",
    "    return sequence\n",
    "\n",
    "def reverse_sequence(seq, to_word):\n",
    "    sentence = []\n",
    "    for w in seq:\n",
    "        if w in to_word:\n",
    "            sentence.append(to_word[w])\n",
    "    return sentence\n",
    "\n",
    "def prepare_sequence_char(seq, to_ix):\n",
    "    sequence = []\n",
    "    for w in seq:\n",
    "        for c in w:\n",
    "            if c in to_ix:\n",
    "                sequence.append(to_ix[c])\n",
    "            else:\n",
    "                sequence.append(to_ix['$'])\n",
    "    return sequence"
   ]
  },
  {
   "cell_type": "markdown",
   "metadata": {},
   "source": [
    "### Building and Deploying the model"
   ]
  },
  {
   "cell_type": "markdown",
   "metadata": {},
   "source": [
    "Pass the sentence in model(sentence) to the model. Then break each sentence and then each word again take each character to prepare a sequence at char level for a given word, then add the embeddings and save them in a tensor and form the sequence of numbers. From there on we can concat both the embedding output (word and char) along thier dimension (eg 32+32=64), then pass these into the linear layer."
   ]
  },
  {
   "cell_type": "code",
   "execution_count": 18,
   "metadata": {},
   "outputs": [],
   "source": [
    "class LSTMTagger(nn.Module):\n",
    "\n",
    "    def __init__(self, word_embedding_dim, char_embedding_dim, hidden_dim, vocab_size, output_size, char_size):\n",
    "        \n",
    "        super(LSTMTagger, self).__init__()\n",
    "        \n",
    "        self.word_embedding_dim = word_embedding_dim\n",
    "        self.char_embedding_dim = char_embedding_dim\n",
    "        self.hidden_dim = hidden_dim\n",
    "        \n",
    "        self.word_embeddings = nn.Embedding(vocab_size, word_embedding_dim)\n",
    "        self.char_embeddings = nn.Embedding(char_size, char_embedding_dim)\n",
    "        self.lstm = nn.LSTM(char_embedding_dim + word_embedding_dim, hidden_dim, batch_first = True)\n",
    "        self.hidden2tag = nn.Linear(hidden_dim, output_size)\n",
    "\n",
    "    def forward(self, seq, sentence):\n",
    "        \n",
    "        word_embeds = self.word_embeddings(seq)\n",
    "        \n",
    "        char_embeds = []\n",
    "        for word in sentence:\n",
    "            embeds = 0\n",
    "            char_seq = prepare_sequence_char(word, char_to_ix)\n",
    "            embeds = self.char_embeddings(torch.LongTensor(char_seq))\n",
    "            to_word = torch.sum(embeds, dim = 0)\n",
    "            char_embeds.append(torch.Tensor(to_word))\n",
    "            \n",
    "        char_embeds = torch.stack(char_embeds)\n",
    "        \n",
    "        embeds_cat = torch.cat((word_embeds, char_embeds), dim=1)\n",
    "        embeds_cat = embeds_cat.view(-1, embeds_cat.shape[0], embeds_cat.shape[1])\n",
    "        \n",
    "        lstm_out, _ = self.lstm(embeds_cat)\n",
    "        tag_space = self.hidden2tag(lstm_out.view(-1, self.hidden_dim))        \n",
    "        tag_scores = F.log_softmax(tag_space, dim=1)\n",
    "        \n",
    "        return tag_scores"
   ]
  },
  {
   "cell_type": "code",
   "execution_count": 19,
   "metadata": {},
   "outputs": [],
   "source": [
    "def train_model(model, patience, n_epochs):\n",
    "    \n",
    "    train_losses = []\n",
    "    valid_losses = []\n",
    "    avg_train_losses = []\n",
    "    avg_valid_losses = []\n",
    "    \n",
    "    early_stopping = EarlyStopping(patience=patience, verbose=True)\n",
    "    \n",
    "    for epoch in range(n_epochs):\n",
    "        print(f\"Starting epoch {epoch+1}...\")\n",
    "        \n",
    "        #Sets the model in training mode where training is set to True to utilise any \n",
    "        #regularisation/BatchNormalization if available.  \n",
    "        model.train()\n",
    "        for sentence, tags in training_data:\n",
    "            model.zero_grad()\n",
    "        \n",
    "            tag_scores = model(torch.LongTensor(prepare_sequence(sentence, word_to_ix)), sentence)\n",
    "            tags = torch.LongTensor(prepare_sequence(tags, tag_to_ix))\n",
    "            \n",
    "            loss = loss_function(tag_scores, tags)\n",
    "            loss.backward()\n",
    "            optimizer.step()\n",
    "            train_losses.append(loss.item())\n",
    "\n",
    "        #Sets the model in evaluation mode where training is set to False to avoid any \n",
    "        #regularisation/BatchNormalization if available.    \n",
    "        model.eval()\n",
    "        for sentence, tags in dev_data:\n",
    "            \n",
    "            tag_scores = model(torch.LongTensor(prepare_sequence(sentence, word_to_ix)), sentence)\n",
    "            tags = torch.LongTensor(prepare_sequence(tags, tag_to_ix))\n",
    "            \n",
    "            loss = loss_function(tag_scores, tags)\n",
    "            valid_losses.append(loss.item())\n",
    "\n",
    "        train_loss = np.average(train_losses)\n",
    "        valid_loss = np.average(valid_losses)\n",
    "        avg_train_losses.append(train_loss)\n",
    "        avg_valid_losses.append(valid_loss)\n",
    "        \n",
    "        epoch_len = len(str(n_epochs))\n",
    "        \n",
    "        print(f'[{epoch+1:>{epoch_len}}/{n_epochs:>{epoch_len}}]' +'-'*20+'->'+\n",
    "                     f'train_loss: {train_loss:.5f}   ' +\n",
    "                     f'valid_loss: {valid_loss:.5f}')\n",
    "        \n",
    "        # Empty lists again for the next epoch\n",
    "        train_losses = []\n",
    "        valid_losses = []\n",
    "        \n",
    "        early_stopping(valid_loss, model)\n",
    "        \n",
    "        if early_stopping.early_stop:\n",
    "            print(\"Early stopping\"+'-'*10 +\"STOPPED\")\n",
    "            break\n",
    "        \n",
    "    # loading the last best the best model\n",
    "    model.load_state_dict(torch.load('checkpoint.pt'))\n",
    "\n",
    "    return  model, avg_train_losses, avg_valid_losses"
   ]
  },
  {
   "cell_type": "code",
   "execution_count": 27,
   "metadata": {
    "scrolled": true
   },
   "outputs": [
    {
     "name": "stdout",
     "output_type": "stream",
     "text": [
      "Starting epoch 1...\n",
      "[ 1/20]--------------------->train_loss: 0.63106   valid_loss: 0.52945\n",
      "Validation loss decreased (inf --> 0.529454).  Saving model ... \n",
      "\n",
      "Starting epoch 2...\n",
      "[ 2/20]--------------------->train_loss: 0.39536   valid_loss: 0.46982\n",
      "Validation loss decreased (0.529454 --> 0.469821).  Saving model ... \n",
      "\n",
      "Starting epoch 3...\n",
      "[ 3/20]--------------------->train_loss: 0.35001   valid_loss: 0.47298\n",
      "EarlyStopping counter: 1 out of 5\n",
      "\n",
      "Starting epoch 4...\n",
      "[ 4/20]--------------------->train_loss: 0.33378   valid_loss: 0.45869\n",
      "Validation loss decreased (0.469821 --> 0.458692).  Saving model ... \n",
      "\n",
      "Starting epoch 5...\n",
      "[ 5/20]--------------------->train_loss: 0.32253   valid_loss: 0.46694\n",
      "EarlyStopping counter: 1 out of 5\n",
      "\n",
      "Starting epoch 6...\n",
      "[ 6/20]--------------------->train_loss: 0.31252   valid_loss: 0.45444\n",
      "Validation loss decreased (0.458692 --> 0.454438).  Saving model ... \n",
      "\n",
      "Starting epoch 7...\n",
      "[ 7/20]--------------------->train_loss: 0.31386   valid_loss: 0.47329\n",
      "EarlyStopping counter: 1 out of 5\n",
      "\n",
      "Starting epoch 8...\n",
      "[ 8/20]--------------------->train_loss: 0.31351   valid_loss: 0.45484\n",
      "EarlyStopping counter: 2 out of 5\n",
      "\n",
      "Starting epoch 9...\n",
      "[ 9/20]--------------------->train_loss: 0.30337   valid_loss: 0.47700\n",
      "EarlyStopping counter: 3 out of 5\n",
      "\n",
      "Starting epoch 10...\n",
      "[10/20]--------------------->train_loss: 0.29431   valid_loss: 0.45884\n",
      "EarlyStopping counter: 4 out of 5\n",
      "\n",
      "Starting epoch 11...\n",
      "[11/20]--------------------->train_loss: 0.29542   valid_loss: 0.48546\n",
      "EarlyStopping counter: 5 out of 5\n",
      "\n",
      "Early stopping----------STOPPED\n"
     ]
    }
   ],
   "source": [
    "word_embedding_dim = 32\n",
    "char_embedding_dim = 32\n",
    "hidden_dim = 64\n",
    "epochs = 20\n",
    "patience = 5\n",
    "\n",
    "model = LSTMTagger(word_embedding_dim, char_embedding_dim, hidden_dim, len(word_to_ix), len(tag_to_ix), len(char_to_ix))\n",
    "loss_function = nn.NLLLoss()\n",
    "optimizer = optim.Adam(model.parameters(), lr=0.01)\n",
    "\n",
    "model, train_loss, valid_loss = train_model(model, patience, epochs)"
   ]
  },
  {
   "cell_type": "code",
   "execution_count": 28,
   "metadata": {},
   "outputs": [
    {
     "data": {
      "image/png": "[encoded data removed]",
      "text/plain": [
       "<Figure size 432x288 with 1 Axes>"
      ]
     },
     "metadata": {
      "needs_background": "light"
     },
     "output_type": "display_data"
    }
   ],
   "source": [
    "plt.plot(train_loss)\n",
    "plt.plot(valid_loss)\n",
    "plt.title('Model losses')\n",
    "plt.ylabel('Loss')\n",
    "plt.xlabel('Epochs')\n",
    "plt.legend(['Train Loss', 'Validation Loss'], loc='upper right')\n",
    "plt.show()"
   ]
  },
  {
   "cell_type": "code",
   "execution_count": 29,
   "metadata": {
    "scrolled": true
   },
   "outputs": [
    {
     "name": "stdout",
     "output_type": "stream",
     "text": [
      "\tCrothnófar|VERB|VERB\n",
      "\tPól|PROPN|PROPN\n",
      "\tnó|CCONJ|SCONJ\n",
      "\tba|AUX|AUX\n",
      "\túrlabhraí|NOUN|NOUN\n",
      "\tmaith|ADJ|ADJ\n",
      "\té|PRON|PRON\n",
      "\tar|ADP|ADP\n",
      "\tRaidió|PROPN|PROPN\n",
      "\tna|DET|DET\n",
      "\tGaeltachta|PROPN|PROPN\n",
      "\tagus|CCONJ|CCONJ\n",
      "\tna|DET|DET\n",
      "\tmeáin|NOUN|NOUN\n",
      "\teile|DET|DET\n",
      "\tag|ADP|ADP\n",
      "\tcosaint|NOUN|NOUN\n",
      "\tna|DET|DET\n",
      "\tn-oifigí|NOUN|NOUN\n",
      "\tpoist|NOUN|NOUN\n",
      "\ttuaithe|NOUN|NOUN\n",
      "\t,|PUNCT|PUNCT\n",
      "\tgné|NOUN|NOUN\n",
      "\tam-tábhachtach|NOUN|ADJ\n",
      "\tde|ADP|ADP\n",
      "\tshaol|NOUN|NOUN\n",
      "\tsóisialta|ADJ|ADJ\n",
      "\tna|DET|DET\n",
      "\tndaoine|NOUN|NOUN\n",
      "\t.|PUNCT|PUNCT\n"
     ]
    }
   ],
   "source": [
    "with torch.no_grad():\n",
    "    inputs = torch.LongTensor(prepare_sequence(test_data[0][0], word_to_ix))\n",
    "    tag_scores = model(inputs, test_data[0][0])\n",
    "\n",
    "    #print(tag_scores)\n",
    "    # Print the actual words with their tags\n",
    "    for i,word in enumerate(test_data[0][0]):\n",
    "        j = int(np.argmax(tag_scores[i]))\n",
    "        print(f\"\\t{word}|{ix_to_tag[j]}|{test_data[0][1][i]}\")"
   ]
  },
  {
   "cell_type": "code",
   "execution_count": 30,
   "metadata": {},
   "outputs": [
    {
     "data": {
      "text/plain": [
       "0.9652173913043478"
      ]
     },
     "execution_count": 30,
     "metadata": {},
     "output_type": "execute_result"
    }
   ],
   "source": [
    "pred = []\n",
    "true = []\n",
    "for i in range(len(test_data[0][1])):\n",
    "    pred.append(ix_to_tag[int(np.argmax(tag_scores[i]))])\n",
    "    true.append(test_data[0][1][i])\n",
    "\n",
    "compute_accuracy_test(pred,true)"
   ]
  },
  {
   "cell_type": "code",
   "execution_count": 33,
   "metadata": {},
   "outputs": [],
   "source": [
    "with torch.no_grad():\n",
    "    #This will be the file to write the outputs\n",
    "    with open(\"data/mymodel_output_irish.output\", 'w', encoding = \"utf-8\") as op:\n",
    "        for instance in test_data:\n",
    "            # Convert the test sentence into a word ID tensor\n",
    "            inputs = torch.LongTensor(prepare_sequence(instance[0], word_to_ix))\n",
    "            # Forward pass\n",
    "            tag_scores = model(inputs, instance[0])\n",
    "            # Find the tag with the highest probability in each position\n",
    "            outputs = [int(np.argmax(ts)) for ts in tag_scores]\n",
    "            # Prepare the output to be written in the same format as the test file (word|tag)\n",
    "            formatted_output = ' '.join([f\"{word}|{ix_to_tag[tag_id]}\" for word,tag_id in zip(instance[0],outputs)])\n",
    "            # Write the output\n",
    "            op.write(formatted_output + '\\n')"
   ]
  },
  {
   "cell_type": "code",
   "execution_count": 34,
   "metadata": {},
   "outputs": [
    {
     "name": "stdout",
     "output_type": "stream",
     "text": [
      "====================Reading the file====================\n",
      "====================Reading the file====================\n",
      "0.8625976852309823\n"
     ]
    }
   ],
   "source": [
    "#Give the path of the OUTPUT file\n",
    "OUTPUT_FILE = \"data/mymodel_output_irish.output\"\n",
    "output = read_data(OUTPUT_FILE)\n",
    "\n",
    "#Give the path of the ORIGINAL file\n",
    "REFERENCE_FILE = 'data/irish.test'\n",
    "gold = read_data(REFERENCE_FILE)\n",
    "\n",
    "acc = compute_accuracy(output,gold)\n",
    "print(acc)"
   ]
  },
  {
   "cell_type": "code",
   "execution_count": null,
   "metadata": {},
   "outputs": [],
   "source": []
  }
 ],
 "metadata": {
  "kernelspec": {
   "display_name": "Python 3",
   "language": "python",
   "name": "python3"
  },
  "language_info": {
   "codemirror_mode": {
    "name": "ipython",
    "version": 3
   },
   "file_extension": ".py",
   "mimetype": "text/x-python",
   "name": "python",
   "nbconvert_exporter": "python",
   "pygments_lexer": "ipython3",
   "version": "3.7.7"
  }
 },
 "nbformat": 4,
 "nbformat_minor": 4
}
