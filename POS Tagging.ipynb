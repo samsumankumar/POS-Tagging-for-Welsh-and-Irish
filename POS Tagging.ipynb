{
 "cells": [
  {
   "cell_type": "code",
   "execution_count": 1,
   "metadata": {},
   "outputs": [
    {
     "name": "stderr",
     "output_type": "stream",
     "text": [
      "\n",
      "Bad key \"text.kerning_factor\" on line 4 in\n",
      "C:\\Users\\samsu\\anaconda3\\envs\\tensorflow_gpu\\lib\\site-packages\\matplotlib\\mpl-data\\stylelib\\_classic_test_patch.mplstyle.\n",
      "You probably need to get an updated matplotlibrc file from\n",
      "https://github.com/matplotlib/matplotlib/blob/v3.1.3/matplotlibrc.template\n",
      "or from the matplotlib source distribution\n"
     ]
    }
   ],
   "source": [
    "import re\n",
    "import sys\n",
    "import torch\n",
    "import numpy as np\n",
    "import pandas as pd\n",
    "import torch.nn as nn\n",
    "import torch.optim as optim\n",
    "import matplotlib.pyplot as plt\n",
    "import torch.nn.functional as F\n",
    "from torch.nn.utils.rnn import pad_sequence\n",
    "from torch.utils.data import DataLoader, TensorDataset"
   ]
  },
  {
   "cell_type": "code",
   "execution_count": 2,
   "metadata": {},
   "outputs": [],
   "source": [
    "class EarlyStopping:\n",
    "    def __init__(self, patience=8, verbose=True, delta=0, path='checkpoint.pt', trace_func=print):\n",
    "        \n",
    "        self.patience = patience\n",
    "        self.verbose = verbose\n",
    "        self.counter = 0\n",
    "        self.best_score = None\n",
    "        self.early_stop = False\n",
    "        self.val_loss_min = np.Inf\n",
    "        self.delta = delta\n",
    "        self.path = path\n",
    "        self.trace_func = trace_func\n",
    "        \n",
    "    def __call__(self, val_loss, model):\n",
    "\n",
    "        score = -val_loss\n",
    "\n",
    "        if self.best_score is None:\n",
    "            self.best_score = score\n",
    "            self.save_checkpoint(val_loss, model)\n",
    "        elif score < self.best_score + self.delta:\n",
    "            self.counter += 1\n",
    "            self.trace_func(f'EarlyStopping counter: {self.counter} out of {self.patience}\\n')\n",
    "            if self.counter >= self.patience:\n",
    "                self.early_stop = True\n",
    "        else:\n",
    "            self.best_score = score\n",
    "            self.save_checkpoint(val_loss, model)\n",
    "            self.counter = 0\n",
    "\n",
    "    def save_checkpoint(self, val_loss, model):\n",
    "        if self.verbose:\n",
    "            self.trace_func(f'Validation loss decreased ({self.val_loss_min:.6f} --> {val_loss:.6f}).  Saving model ... \\n')\n",
    "        torch.save(model.state_dict(), self.path)\n",
    "        self.val_loss_min = val_loss"
   ]
  },
  {
   "cell_type": "code",
   "execution_count": 3,
   "metadata": {},
   "outputs": [],
   "source": [
    "#To test a single line data for visulaisation \n",
    "def compute_accuracy_test(output, gold):\n",
    "    try:\n",
    "        assert(len(output) == len(gold))\n",
    "    except:\n",
    "        print(\"Different number of words in the two lists!\")\n",
    "        return -1\n",
    "\n",
    "    count_correct = 0\n",
    "    count_total_tokens = 0\n",
    "    for o_sent,g_sent in zip(output,gold):\n",
    "        check = [o_token == g_token for o_token,g_token in zip(o_sent,g_sent)]\n",
    "        count_correct += sum(check)\n",
    "        count_total_tokens += len(check)\n",
    "    return count_correct/count_total_tokens\n",
    "\n",
    "def compute_accuracy(output, gold):\n",
    "    try:\n",
    "        assert(len(output) == len(gold))\n",
    "    except:\n",
    "        print(\"Different number of lines in the two files!\")\n",
    "        return -1\n",
    "\n",
    "    count_correct = 0\n",
    "    count_total_tokens = 0\n",
    "    for o_sent,g_sent in zip(output,gold):\n",
    "        try:\n",
    "            assert(len(o_sent)==len(g_sent))\n",
    "        except:\n",
    "            print(\"Different number of tokens in the two lines!\")\n",
    "            return -1\n",
    "        check = [o_token[1] == g_token[1] for o_token,g_token in zip(o_sent,g_sent)]\n",
    "        count_correct += sum(check)\n",
    "        count_total_tokens += len(check)\n",
    "    return count_correct/count_total_tokens"
   ]
  },
  {
   "cell_type": "markdown",
   "metadata": {},
   "source": [
    "### Reading and preparing the file for training"
   ]
  },
  {
   "cell_type": "code",
   "execution_count": 22,
   "metadata": {},
   "outputs": [
    {
     "name": "stdout",
     "output_type": "stream",
     "text": [
      "====================Reading the file====================\n",
      "====================Reading the file====================\n",
      "====================Reading the file====================\n"
     ]
    }
   ],
   "source": [
    "from collections import Counter\n",
    "#encoding=\"ISO-8859-1\"\n",
    "def read_data(f):\n",
    "    with open(f, encoding = \"utf-8\",) as inp:\n",
    "        lines = inp.readlines()\n",
    "        if len(lines) == 0:\n",
    "            raise ValueError('This file is empty')\n",
    "        else:\n",
    "            print('='*20+'Reading the file'+'='*20)\n",
    "    data = []\n",
    "    for line in lines:\n",
    "        line = line.strip().split()\n",
    "        sentence = []\n",
    "        for token in line:\n",
    "            token = token.split('|')\n",
    "            word = token[0]\n",
    "            tag = token[1]\n",
    "            sentence.append((word,tag))\n",
    "        data.append(sentence)\n",
    "    return data\n",
    "\n",
    "def convert_data_for_training(data):\n",
    "    for d in data:\n",
    "        tokens = [t[0] for t in d]\n",
    "        tags = [t[1] for t in d]\n",
    "    return [([t[0] for t in d],[t[1] for t in d]) for d in data]\n",
    "\n",
    "TRAINING_FILE = \"data/irish.train\"\n",
    "training_data = convert_data_for_training(read_data(TRAINING_FILE))\n",
    "\n",
    "DEV_FILE = \"data/irish.dev\"\n",
    "dev_data = convert_data_for_training(read_data(DEV_FILE))\n",
    "\n",
    "TEST_FILE = \"data/irish.test\"\n",
    "test_data = convert_data_for_training(read_data(TEST_FILE))"
   ]
  },
  {
   "cell_type": "markdown",
   "metadata": {},
   "source": [
    "### Rare words are assigned as UNK \n",
    "Run the Below cell if you want to replace the rare words with 'UNK'"
   ]
  },
  {
   "cell_type": "code",
   "execution_count": 23,
   "metadata": {},
   "outputs": [],
   "source": [
    "def substitute_with_UNK(data, n=1):\n",
    "    \n",
    "    doc = ''\n",
    "    for i in range(len(data)):\n",
    "        s = ' '.join(data[i][0])\n",
    "        doc = doc + ' ' + s\n",
    "    \n",
    "    words = doc.lower().split()    \n",
    "    wordfreq = [words.count(p) for p in words]\n",
    "    words_UNK = words.copy()\n",
    "    #freq_dict = dict(list(zip(words,wordfreq)))\n",
    "    \n",
    "    # Find all words that appear <= n times in the corpus\n",
    "    # Iterate through the corpus and substitute the rare words with UNK\n",
    "    for i in range(len(wordfreq)):\n",
    "        if(wordfreq[i]==n):\n",
    "            words_UNK[i] = 'UNK'\n",
    "    data = [words,words_UNK]\n",
    "    return data\n",
    "\n",
    "data = substitute_with_UNK(training_data, n=1)\n",
    "words = data[0].copy()\n",
    "words_unk = data[1].copy()\n",
    "\n",
    "word_to_ix = {}\n",
    "ix_to_word = {}\n",
    "for word in words_unk:\n",
    "    if word not in word_to_ix:\n",
    "        word_to_ix[word] = len(word_to_ix)\n",
    "        ix_to_word[word_to_ix[word]] = word\n",
    "\n",
    "tag_to_ix = {}\n",
    "ix_to_tag = {}\n",
    "for sent, tags in training_data:\n",
    "    for tag in tags:\n",
    "        if tag not in tag_to_ix:\n",
    "            tag_to_ix[tag] = len(tag_to_ix)\n",
    "            ix_to_tag[tag_to_ix[tag]] = tag"
   ]
  },
  {
   "cell_type": "markdown",
   "metadata": {},
   "source": [
    "### Tokenizing the words and tags"
   ]
  },
  {
   "cell_type": "code",
   "execution_count": 24,
   "metadata": {},
   "outputs": [],
   "source": [
    "def prepare_sequence(seq, to_ix):\n",
    "    sequence = []\n",
    "    for w in seq:\n",
    "        if w in to_ix:\n",
    "            sequence.append(to_ix[w])\n",
    "        else:\n",
    "            sequence.append(to_ix['UNK'])\n",
    "    return sequence\n",
    "\n",
    "def reverse_sequence(seq, to_word):\n",
    "    sentence = []\n",
    "    for w in seq:\n",
    "        if w in to_word:\n",
    "            sentence.append(to_word[w])\n",
    "    return sentence"
   ]
  },
  {
   "cell_type": "markdown",
   "metadata": {},
   "source": [
    "### Train, dev and test data preprocessing"
   ]
  },
  {
   "cell_type": "markdown",
   "metadata": {},
   "source": [
    "First convert the sentences to sequences, then put them in a list.\n",
    "Then check if they are in tensor type, use 'TensorDataset(inps, tgts)' to bind x \n",
    "and y where all the lists should be of same length.\n",
    "Then use dataloader for batching."
   ]
  },
  {
   "cell_type": "code",
   "execution_count": 25,
   "metadata": {},
   "outputs": [],
   "source": [
    "def preprocess(data):\n",
    "    sentences = []\n",
    "    tags = []\n",
    "    for sentence, tag in data:\n",
    "        sentences.append(torch.LongTensor(prepare_sequence(sentence, word_to_ix)))\n",
    "        tags.append(torch.LongTensor(prepare_sequence(tag, tag_to_ix)))\n",
    "    return sentences, tags"
   ]
  },
  {
   "cell_type": "code",
   "execution_count": 26,
   "metadata": {
    "scrolled": true
   },
   "outputs": [],
   "source": [
    "batch_size = 32\n",
    "def collate(batch):\n",
    "    sentences, tags = preprocess(batch)\n",
    "    X = pad_sequence(sentences, batch_first= True)\n",
    "    y = pad_sequence(tags, batch_first= True)\n",
    "    return X, y\n",
    "\n",
    "train_loader = DataLoader(training_data, batch_size = batch_size, collate_fn = collate)\n",
    "dev_loader = DataLoader(dev_data, batch_size = batch_size, collate_fn = collate)"
   ]
  },
  {
   "cell_type": "code",
   "execution_count": 27,
   "metadata": {},
   "outputs": [],
   "source": [
    "def input_rev(data):\n",
    "    rev_idx = torch.arange(data.size(1)-1, -1, -1).long()\n",
    "    rev = data.index_select(1, rev_idx)\n",
    "    return rev"
   ]
  },
  {
   "cell_type": "code",
   "execution_count": 28,
   "metadata": {},
   "outputs": [
    {
     "name": "stderr",
     "output_type": "stream",
     "text": [
      "C:\\Users\\samsu\\anaconda3\\envs\\tensorflow_gpu\\lib\\site-packages\\ipykernel_launcher.py:3: DeprecationWarning: Call to deprecated `load_fasttext_format` (use load_facebook_vectors (to use pretrained embeddings) or load_facebook_model (to continue training with the loaded full model, more RAM) instead).\n",
      "  This is separate from the ipykernel package so we can avoid doing imports until\n",
      "C:\\Users\\samsu\\anaconda3\\envs\\tensorflow_gpu\\lib\\site-packages\\ipykernel_launcher.py:4: DeprecationWarning: Call to deprecated `load_fasttext_format` (use load_facebook_vectors (to use pretrained embeddings) or load_facebook_model (to continue training with the loaded full model, more RAM) instead).\n",
      "  after removing the cwd from sys.path.\n"
     ]
    }
   ],
   "source": [
    "from gensim.models import FastText\n",
    "\n",
    "ft_irish = FastText.load_fasttext_format(r'C:\\Users\\samsu\\Desktop\\Fall20\\CS 695-002\\Assignment 1\\part2\\part2d\\cc.cy.300.bin')\n",
    "ft_welsh = FastText.load_fasttext_format(r'C:\\Users\\samsu\\Desktop\\Fall20\\CS 695-002\\Assignment 1\\part2\\part2d\\cc.ga.300.bin')"
   ]
  },
  {
   "cell_type": "code",
   "execution_count": 29,
   "metadata": {},
   "outputs": [],
   "source": [
    "vectors = torch.FloatTensor(ft_irish.wv.vectors)"
   ]
  },
  {
   "cell_type": "markdown",
   "metadata": {},
   "source": [
    "### Building and Deploying the model"
   ]
  },
  {
   "cell_type": "code",
   "execution_count": 30,
   "metadata": {},
   "outputs": [],
   "source": [
    "class LSTMTagger(nn.Module):\n",
    "\n",
    "    def __init__(self, embedding_dim, hidden_dim1, hidden_dim2, vocab_size, output_size, vectors):\n",
    "        super(LSTMTagger, self).__init__()\n",
    "        self.hidden_dim1 = hidden_dim1\n",
    "        self.hidden_dim2 = hidden_dim2\n",
    "        self.embedding_dim = embedding_dim\n",
    "        self.dropout = nn.Dropout(0.4)\n",
    "        \n",
    "        self.word_embeddings = nn.Embedding.from_pretrained(vectors)\n",
    "        \n",
    "        self.lstm_forward1 = nn.LSTM(embedding_dim, hidden_dim1, batch_first = True)\n",
    "        self.lstm_backward1 = nn.LSTM(embedding_dim, hidden_dim1, batch_first = True)\n",
    "        \n",
    "        self.lstm_forward2 = nn.LSTM(hidden_dim1, hidden_dim2, batch_first = True)\n",
    "        self.lstm_backward2 = nn.LSTM(hidden_dim1, hidden_dim2, batch_first = True)\n",
    "        \n",
    "        self.hidden2tag = nn.Linear(hidden_dim2, output_size)\n",
    "\n",
    "    def forward(self, sentence):\n",
    "        \n",
    "        embeds = self.word_embeddings(sentence)\n",
    "              \n",
    "        lstm_out0, _ = self.lstm_forward1(embeds)\n",
    "        data_rev = input_rev(embeds)\n",
    "        lstm_out1, _ = self.lstm_backward1(data_rev)\n",
    "        lstm_out_rev = input_rev(lstm_out1)\n",
    "        lstm_out = lstm_out0 + lstm_out_rev\n",
    "        lstm_out = self.dropout(lstm_out)\n",
    "        \n",
    "        lstm_out0, _ = self.lstm_forward2(lstm_out)\n",
    "        data_rev = input_rev(lstm_out)\n",
    "        lstm_out1, _ = self.lstm_backward2(data_rev)\n",
    "        lstm_out_rev = input_rev(lstm_out1)\n",
    "        lstm_out = lstm_out0 + lstm_out_rev\n",
    "        lstm_out = self.dropout(lstm_out)\n",
    "              \n",
    "        lstm_out = lstm_out.contiguous().view(-1, self.hidden_dim2)\n",
    "        tag_space = self.hidden2tag(lstm_out)\n",
    "        tag_space = self.dropout(tag_space)\n",
    "        tag_scores = F.log_softmax(tag_space, dim=1)\n",
    "        \n",
    "        return tag_scores    "
   ]
  },
  {
   "cell_type": "code",
   "execution_count": 31,
   "metadata": {},
   "outputs": [],
   "source": [
    "def train_model(model, patience, n_epochs):\n",
    "    \n",
    "    train_losses = []\n",
    "    valid_losses = []\n",
    "    avg_train_losses = []\n",
    "    avg_valid_losses = [] \n",
    "    \n",
    "    early_stopping = EarlyStopping(patience=patience, verbose=True)\n",
    "    \n",
    "    for epoch in range(n_epochs):\n",
    "        print(f\"Starting epoch {epoch+1}...\")\n",
    "        #Sets the model in training mode where training is set to True to utilise any\n",
    "        #regularisation/BatchNormalization if available.  \n",
    "        model.train()\n",
    "        for sentence, tags in train_loader:\n",
    "            model.zero_grad()\n",
    "        \n",
    "            tag_scores = model(sentence)\n",
    "            loss = loss_function(tag_scores, tags.flatten())\n",
    "            loss.backward()\n",
    "            optimizer.step()\n",
    "            train_losses.append(loss.item())\n",
    "\n",
    "        #Sets the model in evaluation mode where training is set to False to avoid any \n",
    "        #regularisation/BatchNormalization if available.    \n",
    "        model.eval() \n",
    "        for sentence, tags in dev_loader:\n",
    "            tag_scores = model(sentence)\n",
    "            loss = loss_function(tag_scores, tags.flatten())\n",
    "            valid_losses.append(loss.item())\n",
    "\n",
    "        train_loss = np.average(train_losses)\n",
    "        valid_loss = np.average(valid_losses)\n",
    "        avg_train_losses.append(train_loss)\n",
    "        avg_valid_losses.append(valid_loss)\n",
    "        \n",
    "        epoch_len = len(str(n_epochs))\n",
    "        \n",
    "        print(f'[{epoch+1:>{epoch_len}}/{n_epochs:>{epoch_len}}]' +'-'*20+'->'+\n",
    "                     f'train_loss: {train_loss:.5f}   ' +\n",
    "                     f'valid_loss: {valid_loss:.5f}')\n",
    "        \n",
    "        # Empty lists again for the next epoch\n",
    "        train_losses = []\n",
    "        valid_losses = []\n",
    "        \n",
    "        early_stopping(valid_loss, model)\n",
    "        \n",
    "        if early_stopping.early_stop:\n",
    "            print(\"Early stopping\"+'-'*10 +\"STOPPED\")\n",
    "            \n",
    "            break\n",
    "        \n",
    "    # loading the last best the best model\n",
    "    model.load_state_dict(torch.load('checkpoint.pt'))\n",
    "\n",
    "    return  model, avg_train_losses, avg_valid_losses"
   ]
  },
  {
   "cell_type": "code",
   "execution_count": 33,
   "metadata": {
    "scrolled": true
   },
   "outputs": [
    {
     "name": "stdout",
     "output_type": "stream",
     "text": [
      "Starting epoch 1...\n",
      "[ 1/50]--------------------->train_loss: 1.43971   valid_loss: 0.64238\n",
      "Validation loss decreased (inf --> 0.642382).  Saving model ... \n",
      "\n",
      "Starting epoch 2...\n",
      "[ 2/50]--------------------->train_loss: 1.14963   valid_loss: 0.41324\n",
      "Validation loss decreased (0.642382 --> 0.413236).  Saving model ... \n",
      "\n",
      "Starting epoch 3...\n",
      "[ 3/50]--------------------->train_loss: 1.06179   valid_loss: 0.36664\n",
      "Validation loss decreased (0.413236 --> 0.366638).  Saving model ... \n",
      "\n",
      "Starting epoch 4...\n",
      "[ 4/50]--------------------->train_loss: 1.02378   valid_loss: 0.31411\n",
      "Validation loss decreased (0.366638 --> 0.314106).  Saving model ... \n",
      "\n",
      "Starting epoch 5...\n",
      "[ 5/50]--------------------->train_loss: 1.00573   valid_loss: 0.30694\n",
      "Validation loss decreased (0.314106 --> 0.306942).  Saving model ... \n",
      "\n",
      "Starting epoch 6...\n",
      "[ 6/50]--------------------->train_loss: 0.99001   valid_loss: 0.30022\n",
      "Validation loss decreased (0.306942 --> 0.300221).  Saving model ... \n",
      "\n",
      "Starting epoch 7...\n",
      "[ 7/50]--------------------->train_loss: 0.97939   valid_loss: 0.27817\n",
      "Validation loss decreased (0.300221 --> 0.278166).  Saving model ... \n",
      "\n",
      "Starting epoch 8...\n",
      "[ 8/50]--------------------->train_loss: 0.96557   valid_loss: 0.27375\n",
      "Validation loss decreased (0.278166 --> 0.273751).  Saving model ... \n",
      "\n",
      "Starting epoch 9...\n",
      "[ 9/50]--------------------->train_loss: 0.96182   valid_loss: 0.26899\n",
      "Validation loss decreased (0.273751 --> 0.268988).  Saving model ... \n",
      "\n",
      "Starting epoch 10...\n",
      "[10/50]--------------------->train_loss: 0.94866   valid_loss: 0.26524\n",
      "Validation loss decreased (0.268988 --> 0.265245).  Saving model ... \n",
      "\n",
      "Starting epoch 11...\n",
      "[11/50]--------------------->train_loss: 0.94493   valid_loss: 0.26247\n",
      "Validation loss decreased (0.265245 --> 0.262473).  Saving model ... \n",
      "\n",
      "Starting epoch 12...\n",
      "[12/50]--------------------->train_loss: 0.94883   valid_loss: 0.25142\n",
      "Validation loss decreased (0.262473 --> 0.251417).  Saving model ... \n",
      "\n",
      "Starting epoch 13...\n",
      "[13/50]--------------------->train_loss: 0.93276   valid_loss: 0.24230\n",
      "Validation loss decreased (0.251417 --> 0.242297).  Saving model ... \n",
      "\n",
      "Starting epoch 14...\n",
      "[14/50]--------------------->train_loss: 0.92394   valid_loss: 0.24843\n",
      "EarlyStopping counter: 1 out of 7\n",
      "\n",
      "Starting epoch 15...\n",
      "[15/50]--------------------->train_loss: 0.91772   valid_loss: 0.23829\n",
      "Validation loss decreased (0.242297 --> 0.238288).  Saving model ... \n",
      "\n",
      "Starting epoch 16...\n",
      "[16/50]--------------------->train_loss: 0.91045   valid_loss: 0.24772\n",
      "EarlyStopping counter: 1 out of 7\n",
      "\n",
      "Starting epoch 17...\n",
      "[17/50]--------------------->train_loss: 0.90544   valid_loss: 0.24404\n",
      "EarlyStopping counter: 2 out of 7\n",
      "\n",
      "Starting epoch 18...\n",
      "[18/50]--------------------->train_loss: 0.90187   valid_loss: 0.23478\n",
      "Validation loss decreased (0.238288 --> 0.234779).  Saving model ... \n",
      "\n",
      "Starting epoch 19...\n",
      "[19/50]--------------------->train_loss: 0.90336   valid_loss: 0.23456\n",
      "Validation loss decreased (0.234779 --> 0.234561).  Saving model ... \n",
      "\n",
      "Starting epoch 20...\n",
      "[20/50]--------------------->train_loss: 0.89036   valid_loss: 0.24253\n",
      "EarlyStopping counter: 1 out of 7\n",
      "\n",
      "Starting epoch 21...\n",
      "[21/50]--------------------->train_loss: 0.89510   valid_loss: 0.24652\n",
      "EarlyStopping counter: 2 out of 7\n",
      "\n",
      "Starting epoch 22...\n",
      "[22/50]--------------------->train_loss: 0.89773   valid_loss: 0.23384\n",
      "Validation loss decreased (0.234561 --> 0.233844).  Saving model ... \n",
      "\n",
      "Starting epoch 23...\n",
      "[23/50]--------------------->train_loss: 0.88658   valid_loss: 0.23601\n",
      "EarlyStopping counter: 1 out of 7\n",
      "\n",
      "Starting epoch 24...\n",
      "[24/50]--------------------->train_loss: 0.89085   valid_loss: 0.24710\n",
      "EarlyStopping counter: 2 out of 7\n",
      "\n",
      "Starting epoch 25...\n",
      "[25/50]--------------------->train_loss: 0.89493   valid_loss: 0.24103\n",
      "EarlyStopping counter: 3 out of 7\n",
      "\n",
      "Starting epoch 26...\n",
      "[26/50]--------------------->train_loss: 0.89027   valid_loss: 0.24028\n",
      "EarlyStopping counter: 4 out of 7\n",
      "\n",
      "Starting epoch 27...\n",
      "[27/50]--------------------->train_loss: 0.89406   valid_loss: 0.24709\n",
      "EarlyStopping counter: 5 out of 7\n",
      "\n",
      "Starting epoch 28...\n",
      "[28/50]--------------------->train_loss: 0.87733   valid_loss: 0.25119\n",
      "EarlyStopping counter: 6 out of 7\n",
      "\n",
      "Starting epoch 29...\n",
      "[29/50]--------------------->train_loss: 0.87837   valid_loss: 0.24231\n",
      "EarlyStopping counter: 7 out of 7\n",
      "\n",
      "Early stopping----------STOPPED\n"
     ]
    }
   ],
   "source": [
    "embedding_dim = 300\n",
    "epochs = 50\n",
    "hidden_dim1 = 64\n",
    "hidden_dim2 = 128\n",
    "patience = 7\n",
    "\n",
    "model = LSTMTagger(embedding_dim, hidden_dim1, hidden_dim2, len(word_to_ix), len(tag_to_ix), vectors)\n",
    "loss_function = nn.NLLLoss()\n",
    "optimizer = optim.Adam(model.parameters(), lr=0.01)\n",
    "\n",
    "model, train_loss, valid_loss = train_model(model, patience, epochs)"
   ]
  },
  {
   "cell_type": "code",
   "execution_count": 39,
   "metadata": {},
   "outputs": [
    {
     "data": {
      "image/png": "[encoded data removed]",
      "text/plain": [
       "<Figure size 432x288 with 1 Axes>"
      ]
     },
     "metadata": {
      "needs_background": "light"
     },
     "output_type": "display_data"
    }
   ],
   "source": [
    "plt.plot(train_loss)\n",
    "plt.plot(valid_loss)\n",
    "plt.title('Model losses')\n",
    "plt.ylabel('Loss')\n",
    "plt.xlabel('Epochs')\n",
    "plt.legend(['Train Loss', 'Validation Loss'], loc='upper right')\n",
    "plt.show()"
   ]
  },
  {
   "cell_type": "code",
   "execution_count": 35,
   "metadata": {
    "scrolled": true
   },
   "outputs": [
    {
     "name": "stdout",
     "output_type": "stream",
     "text": [
      "\tCrothnófar|VERB|VERB\n",
      "\tPól|NOUN|PROPN\n",
      "\tnó|CCONJ|SCONJ\n",
      "\tba|AUX|AUX\n",
      "\túrlabhraí|NOUN|NOUN\n",
      "\tmaith|ADJ|ADJ\n",
      "\té|PRON|PRON\n",
      "\tar|ADP|ADP\n",
      "\tRaidió|NOUN|PROPN\n",
      "\tna|DET|DET\n",
      "\tGaeltachta|PROPN|PROPN\n",
      "\tagus|CCONJ|CCONJ\n",
      "\tna|DET|DET\n",
      "\tmeáin|NOUN|NOUN\n",
      "\teile|DET|DET\n",
      "\tag|ADP|ADP\n",
      "\tcosaint|PROPN|NOUN\n",
      "\tna|DET|DET\n",
      "\tn-oifigí|PROPN|NOUN\n",
      "\tpoist|PROPN|NOUN\n",
      "\ttuaithe|PRON|NOUN\n",
      "\t,|PUNCT|PUNCT\n",
      "\tgné|PROPN|NOUN\n",
      "\tam-tábhachtach|PROPN|ADJ\n",
      "\tde|ADP|ADP\n",
      "\tshaol|NOUN|NOUN\n",
      "\tsóisialta|NOUN|ADJ\n",
      "\tna|DET|DET\n",
      "\tndaoine|NOUN|NOUN\n",
      "\t.|PUNCT|PUNCT\n"
     ]
    }
   ],
   "source": [
    "with torch.no_grad():\n",
    "    inputs = torch.LongTensor(prepare_sequence(test_data[0][0], word_to_ix))\n",
    "    tag_scores = model(inputs.view(-1,inputs.shape[0]))\n",
    "\n",
    "    #print(tag_scores)\n",
    "    # Print the actual words with their tags\n",
    "    for i,word in enumerate(test_data[0][0]):\n",
    "        j = int(np.argmax(tag_scores[i]))\n",
    "        print(f\"\\t{word}|{ix_to_tag[j]}|{test_data[0][1][i]}\")"
   ]
  },
  {
   "cell_type": "code",
   "execution_count": 36,
   "metadata": {},
   "outputs": [
    {
     "data": {
      "text/plain": [
       "0.6991150442477876"
      ]
     },
     "execution_count": 36,
     "metadata": {},
     "output_type": "execute_result"
    }
   ],
   "source": [
    "pred = []\n",
    "true = []\n",
    "for i in range(len(test_data[0][1])):\n",
    "    pred.append(ix_to_tag[int(np.argmax(tag_scores[i]))])\n",
    "    true.append(test_data[0][1][i])\n",
    "\n",
    "compute_accuracy_test(pred,true)"
   ]
  },
  {
   "cell_type": "code",
   "execution_count": 40,
   "metadata": {},
   "outputs": [],
   "source": [
    "with torch.no_grad():\n",
    "    # this will be the file to write the outputs\n",
    "    with open(\"data/mymodel_output_irish.output\", 'w', encoding = \"utf-8\") as op:\n",
    "        for instance in test_data:\n",
    "            # Convert the test sentence into a word ID tensor\n",
    "            inputs = torch.LongTensor(prepare_sequence(instance[0], word_to_ix))\n",
    "            # Forward pass\n",
    "            tag_scores = model(inputs.view(-1,inputs.shape[0]))\n",
    "            # Find the tag with the highest probability in each position\n",
    "            outputs = [int(np.argmax(ts)) for ts in tag_scores]\n",
    "            # Prepare the output to be written in the same format as the test file (word|tag)\n",
    "            formatted_output = ' '.join([f\"{word}|{ix_to_tag[tag_id]}\" for word,tag_id in zip(instance[0],outputs)])\n",
    "            # Write the output\n",
    "            op.write(formatted_output + '\\n')"
   ]
  },
  {
   "cell_type": "code",
   "execution_count": 41,
   "metadata": {},
   "outputs": [
    {
     "name": "stdout",
     "output_type": "stream",
     "text": [
      "====================Reading the file====================\n",
      "====================Reading the file====================\n",
      "0.8083885646453656\n"
     ]
    }
   ],
   "source": [
    "#Give the path of the OUTPUT file\n",
    "OUTPUT_FILE = \"data/mymodel_output_irish.output\"\n",
    "output = read_data(OUTPUT_FILE)\n",
    "\n",
    "#Give the path of the ORIGINAL file\n",
    "REFERENCE_FILE = 'data/irish.test'\n",
    "gold = read_data(REFERENCE_FILE)\n",
    "\n",
    "acc = compute_accuracy(output,gold)\n",
    "print(acc)"
   ]
  },
  {
   "cell_type": "code",
   "execution_count": null,
   "metadata": {},
   "outputs": [],
   "source": []
  }
 ],
 "metadata": {
  "kernelspec": {
   "display_name": "Python 3",
   "language": "python",
   "name": "python3"
  },
  "language_info": {
   "codemirror_mode": {
    "name": "ipython",
    "version": 3
   },
   "file_extension": ".py",
   "mimetype": "text/x-python",
   "name": "python",
   "nbconvert_exporter": "python",
   "pygments_lexer": "ipython3",
   "version": "3.7.7"
  }
 },
 "nbformat": 4,
 "nbformat_minor": 4
}
